{
 "cells": [
  {
   "cell_type": "code",
   "execution_count": 1,
   "id": "fd110351-5ae4-442d-ad29-757cd9262ca9",
   "metadata": {
    "jupyter": {
     "source_hidden": true
    }
   },
   "outputs": [],
   "source": [
    "# File Authorship Information\n",
    "__author__ = \"\"\"Matteo Lulli, Antonino Marcianò, Emanuele Zappalà\"\"\"\n",
    "__copyright__ = \"\"\"Copyright 2023, Matteo Lulli, Antonino Marcianò, Emanuele Zappalà, idea.deploy\"\"\"\n",
    "__license__ = \"\"\"Permission is hereby granted, free of charge, \n",
    "to any person obtaining a copy of this software and associated \n",
    "documentation files (the \"Software\"), to deal in the Software \n",
    "without restriction, including without limitation the rights to \n",
    "use, copy, modify, merge, publish, distribute, sublicense, \n",
    "and/or sell copies of the Software, \n",
    "and to permit persons to whom the Software is furnished to do so, \n",
    "subject to the following conditions:\n",
    "The above copyright notice and this permission notice shall be \n",
    "included in all copies or substantial portions of the Software.\n",
    "THE SOFTWARE IS PROVIDED \"AS IS\", WITHOUT WARRANTY OF ANY KIND, \n",
    "EXPRESS OR IMPLIED, INCLUDING BUT NOT LIMITED TO THE WARRANTIES \n",
    "OF MERCHANTABILITY, FITNESS FOR A PARTICULAR PURPOSE AND \n",
    "NONINFRINGEMENT. IN NO EVENT SHALL THE AUTHORS OR COPYRIGHT \n",
    "HOLDERS BE LIABLE FOR ANY CLAIM, DAMAGES OR OTHER LIABILITY, \n",
    "WHETHER IN AN ACTION OF CONTRACT, TORT OR OTHERWISE, ARISING FROM,\n",
    "OUT OF OR IN CONNECTION WITH THE SOFTWARE OR THE USE OR OTHER \n",
    "DEALINGS IN THE SOFTWARE.\"\"\"\n",
    "__maintainer__ = \"Matteo Lulli, Emanuele Zappalà\"\n",
    "__email__ = \"matteo.lulli@gmail.com\"\n",
    "__status__ = \"Development\""
   ]
  },
  {
   "cell_type": "code",
   "execution_count": 2,
   "id": "0122515b-8b55-4bf7-84e6-83758b73cd00",
   "metadata": {
    "jupyter": {
     "source_hidden": true
    }
   },
   "outputs": [],
   "source": [
    "# Development cell\n",
    "%load_ext autoreload\n",
    "%autoreload 2"
   ]
  },
  {
   "cell_type": "markdown",
   "id": "db7fd794-133d-4edd-b19f-1d3527945b7a",
   "metadata": {},
   "source": [
    "# Exact Evaluation of Hexagonal Spin-networks and Topological Quantum Neural Networks\n",
    "\n",
    "Authors: Matteo Lulli (1), Antonino Marcianò (2, 3, 4), Emanuele Zappalà (5)\n",
    "\n",
    "(1) Department of Mechanics and Aerospace Engineering, Southern University of Science and Technology, Shenzhen, Guangdong 518055, China, [lulli@sustech.edu.cn](mailto:lulli@sustech.edu.cn)\n",
    "\n",
    "(2) Department of Physics, Fudan University, 200433 Shanghai, China, [marciano@fudan.edu.cn](mailto:marciano@fudan.edu.cn)\n",
    "\n",
    "(3) Laboratori Nazionali di Frascati INFN, Frascati (Rome), Italy, EU\n",
    "\n",
    "(4) INFN sezione Roma Tor Vergata, I-00133 Rome, Italy, EU\n",
    "\n",
    "(5) Department of Mathematics and Statistics, Idaho State University Physical Science Complex |  921 S. 8th Ave., Stop 8085 | Pocatello, ID 83209, USA, [emanuelezappala@isu.edu](mailto:emanuelezappala@isu.edu)\n",
    "\n",
    "**Abstract:**\n",
    "The physical scalar product between spin-networks has been shown to be a fundamental tool in the theory of topological quantum neural networks (TQNN), which are quantum neural networks previously introduced by the authors in the context of quantum machine learning. However, the effective evaluation of the scalar product remains a bottleneck for the applicability of the theory.\n",
    "We introduce an algorithm for the evaluation of the physical scalar product defined by Noui and Perez between spin-network with hexagonal shape. By means of recoupling theory and the properties of the Haar integration we obtain an efficient algorithm, and provide several proofs regarding the main steps. We investigate the behavior of the TQNN evaluations on certain classes of spin-networks with the classical and quantum recoupling. All results can be independently reproduced through the ``idea.deploy\" framework [https://github.com/lullimat/idea.deploy](https://github.com/lullimat/idea.deploy)\n",
    "\n",
    "# Reproducibility\n",
    "\n",
    "his document is intended for those interested readers who want to reproduce the results reported in the paper [https://arxiv.org/abs/2310.03632](https://arxiv.org/abs/2310.03632). In the present case the computational resources needed should be available in general. \n",
    "\n",
    "Next development steps will include a class to measure the time required by each cell and output it in a .json file which can be sent to [matteo.lulli@gmail.com](mailto:matteo.lulli@gmail.com) and [emanuelezappala@isu.edu](mailto:emanuelezappala@isu.edu) so that average execution times will be available and organized according to the hardware.\n",
    "\n",
    "Each subsection can be executed independently and reproduce the results which will be stored locally in the directory 'reproduced-data', so that the data will be generated only once.\n",
    "\n",
    "Plots can also be generated using the same scripts employed for the figures of the paper. Since there are some issues in executing these scripts in the Jupyter environment we include them as separated files which are called from the cells themselves. **In order to reproduce the plots a working 'latex' installation is necessary to be present on the system.**\n",
    "\n",
    "This file will be kept updated for new local features and developments in the parent project [**idea.deploy**](https://github.com/lullimat/idea.deploy)\n",
    "\n",
    "This file is supposed to be pulled from the repository [https://arxiv.org/abs/2310.03632](https://arxiv.org/abs/2310.03632), from within the \"papers\" directory the idea.deploy project."
   ]
  },
  {
   "cell_type": "code",
   "execution_count": null,
   "id": "9b3c03ad-247f-46d3-af2a-e8e8dca07336",
   "metadata": {},
   "outputs": [],
   "source": []
  }
 ],
 "metadata": {
  "kernelspec": {
   "display_name": "idea.deploy",
   "language": "python",
   "name": "idpy-env"
  },
  "language_info": {
   "codemirror_mode": {
    "name": "ipython",
    "version": 3
   },
   "file_extension": ".py",
   "mimetype": "text/x-python",
   "name": "python",
   "nbconvert_exporter": "python",
   "pygments_lexer": "ipython3",
   "version": "3.10.13"
  }
 },
 "nbformat": 4,
 "nbformat_minor": 5
}
